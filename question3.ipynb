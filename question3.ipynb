{
  "nbformat": 4,
  "nbformat_minor": 0,
  "metadata": {
    "colab": {
      "name": "question3",
      "provenance": [],
      "collapsed_sections": [],
      "authorship_tag": "ABX9TyM80PZkr9RnqnBvTySI6j/y",
      "include_colab_link": true
    },
    "kernelspec": {
      "name": "python3",
      "display_name": "Python 3"
    }
  },
  "cells": [
    {
      "cell_type": "markdown",
      "metadata": {
        "id": "view-in-github",
        "colab_type": "text"
      },
      "source": [
        "<a href=\"https://colab.research.google.com/github/shivamsouravjha/projects/blob/master/question3.ipynb\" target=\"_parent\"><img src=\"https://colab.research.google.com/assets/colab-badge.svg\" alt=\"Open In Colab\"/></a>"
      ]
    },
    {
      "cell_type": "code",
      "metadata": {
        "id": "xDi4X1hOLxEl",
        "colab_type": "code",
        "colab": {}
      },
      "source": [
        "import numpy as np\n",
        "from scipy import stats\n",
        "import pandas as pd"
      ],
      "execution_count": 2,
      "outputs": []
    },
    {
      "cell_type": "code",
      "metadata": {
        "id": "ctXNwAwfMBVB",
        "colab_type": "code",
        "colab": {
          "base_uri": "https://localhost:8080/",
          "height": 85
        },
        "outputId": "fa249f1c-e5d8-4de0-d5b7-53fe87b97e9e"
      },
      "source": [
        "#Question 3\n",
        "from scipy import stats                   \n",
        "df = pd.read_csv(\"/content/sample_data/california_housing_test.csv\")                            #sample data one\n",
        "nf = pd.DataFrame([['ad',8,9,11],['gr',6,3,11],['ty',4,2,9]],columns=('name','x','y','z'))                    #sample data 2\n",
        "############################ pearson function##############################\n",
        "#this function made to find the column which causes minimum dropping of columns having pearson value more than 0.85#\n",
        "def pearson_one(G,str):               #takes input a string str and a dataframe G \n",
        "  a=0                                #a variable that shalllpass the number of dropping\n",
        "  colm = G.columns                      #making a list of columns\n",
        "  for i in range(len(colm)):                                                  #iterating for all columns\n",
        "    if (G[colm[i]].dtype== 'int64' or G[colm[i]].dtype== 'float64') and colm[i] !=  str:   #make sure we compare columns of int or float type and not object and it is not compared wiht itslef\n",
        "        G.fillna(value=G[colm[i]].mean(),inplace=True)                      #to fill missing values with mean\n",
        "        pr_cor = (stats.pearsonr(G[str],G[colm[i]])[0])                        #apply pearson correlation with the given column whose name is 'str' with all other columns\n",
        "        if pr_cor>0.85:          #making sure the pearson correlation is more than 0.85, if it is  a in increased by one\n",
        "          a= a+1        \n",
        "  return a,str            #new a and column name str is passed\n",
        "  ##################### end of function#########################\n",
        "\n",
        "\n",
        "  #################beginning of new function#################3\n",
        "  #this function drops the columns which have mpearson correlation mre that 0.85 with the str columns\n",
        "def pearson_drop(G,str):\n",
        "  cols = G.columns                     #list of all coolumns\n",
        "  for i in range(len(cols)):         \n",
        "    if (G[cols[i]].dtype== 'int64' or G[cols[i]].dtype== 'float64') and cols[i] !=  str:          #to find all columns other than str itself with Pearson correlation more than 0.85\n",
        "        G.fillna(value=G[cols[i]].mean(),inplace=True)                                #filling empty values\n",
        "        pr_cor = (stats.pearsonr(G[str],G[cols[i]])[0])                  #calculation the pearson value\n",
        "        if pr_cor>0.85:                                      #columns with pearson value more than 0.85 to be dropped\n",
        "            G.drop(columns= cols[i],axis=1,inplace=True)\n",
        "\n",
        "  return G             #Return the dataframe with dropped the columns with pearson correlation mre than 0.85\n",
        "  ##################################################end of function########################################\n",
        "\n",
        "  ##########################################new function#################################\n",
        "def min_removal(zz):\n",
        "  cols = zz.columns                                #set of columns\n",
        "  for i in range(len(cols)):                                      #to find the first column which is of int or float type\n",
        "    if zz[cols[i]].dtype== 'int64' or zz[cols[i]].dtype== 'float64':\n",
        "      b = pearson_one(zz,cols[i])[0]      #store the number of columns deleted\n",
        "      c = pearson_one(zz,cols[i])[1]          #store the name of column in which above happens\n",
        "      break                                                     #break and start search from i to ahead\n",
        "  for j in range(i,len(cols)):                  #searching other columns\n",
        "   if zz[cols[i]].dtype== 'int64' or zz[cols[i]].dtype== 'float64': #new column is also int or float type\n",
        "\n",
        "     d = pearson_one(zz,cols[j])[0] #calcualte the number of columns dropped\n",
        "     if(d<b):                         #compare with b to check where we droppped less columns\n",
        "        c = pearson_one(zz,cols[j])[1]         #if we dropped less columns store the column name \n",
        "  zz = pearson_drop(zz,c)           #at end we are left with column name where we dropped least columns so we apply pearson drop and drop the minimum number of columns\n",
        "  return zz                                                     #return the dataframe\n",
        "#############################end of columns##########################################\n",
        "mm = min_removal(nf)                    #calling the function\n",
        "print(mm)"
      ],
      "execution_count": 3,
      "outputs": [
        {
          "output_type": "stream",
          "text": [
            "  name  y   z\n",
            "0   ad  9  11\n",
            "1   gr  3  11\n",
            "2   ty  2   9\n"
          ],
          "name": "stdout"
        }
      ]
    }
  ]
}