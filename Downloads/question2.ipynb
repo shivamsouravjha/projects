{
  "nbformat": 4,
  "nbformat_minor": 0,
  "metadata": {
    "colab": {
      "name": "question2.ipynb",
      "provenance": [],
      "collapsed_sections": []
    },
    "kernelspec": {
      "name": "python3",
      "display_name": "Python 3"
    }
  },
  "cells": [
    {
      "cell_type": "code",
      "metadata": {
        "id": "sSizDk19FOTc",
        "colab_type": "code",
        "colab": {}
      },
      "source": [
        "import pandas as pd\n",
        "import numpy as np\n",
        "a=0"
      ],
      "execution_count": 1,
      "outputs": []
    },
    {
      "cell_type": "code",
      "metadata": {
        "id": "TBt_jCEWBN6y",
        "colab_type": "code",
        "colab": {
          "base_uri": "https://localhost:8080/",
          "height": 68
        },
        "outputId": "a5c5eaf5-4083-4e68-f6c2-6d027b19eafe"
      },
      "source": [
        "#Question 2\n",
        "\n",
        "\n",
        "df = pd.read_csv(\"/content/drive/My Drive/datasets_26073_33239_weight-height.csv\")  #height weight data from kaggle mounted in google drive\n",
        "###############################################begin of remove function##################################################################\n",
        "#function to remove object so that we have only int and float\n",
        "def remove(mf):                              \n",
        "  for col in df.columns:                        #iter in columns\n",
        "    if mf[col].dtype == 'O':             #find object \n",
        "      try:\n",
        "        mf.drop(col,axis=1,inplace=True)                       #drop the columns\n",
        "      except:\n",
        "        print(1)                                                #if it is an error print 1\n",
        "  return mf                                                         #return the dataframe\n",
        "############################################# end of remove function#########################################################\n",
        "#########beginning of get3 function############################################# \n",
        "#to get the rows that are outliers \n",
        "def get3(mf):                                             \n",
        "  Q1 = mf.quantile(0.25)                                  #to get 25th percentile value\n",
        "  Q3 = mf.quantile(0.75)                                  #to get 75th percentile value                                      \n",
        "  IQR = Q3-Q1                                                   #to get IQR\n",
        "  mf = mf[((mf < (Q1 - 1.5 * IQR)) |(mf > (Q3 + 1.5 * IQR))).any(axis=1)]         #to get rows that don't have outlier\n",
        "  return mf\n",
        "############################################# end of get3 function#########################################################\n",
        "#########beginning of get1 function#############################################  \n",
        "#to get the rows by removing all outliers\n",
        "def get1(mf):                                                                                   \n",
        "  Q1 = mf.quantile(0.25)\n",
        "  Q3 = mf.quantile(0.75)\n",
        "  IQR = Q3-Q1\n",
        "  mf = mf[~((mf < (Q1 - 1.5 * IQR)) |(mf > (Q3 + 1.5 * IQR))).any(axis=1)]                    # here ~ causes display of outlier rows\n",
        "  return mf\n",
        "############################################# end of get1 function#########################################################\n",
        "#########beginning of get3 function#############################################  \n",
        "#function to replace the outliers  with 50th percentile value\n",
        "def get2(mf):                                                                       \n",
        "  for col in mf.columns:\n",
        "    mf[col] = np.where(mf[col] > mf[col].quantile(0.75), mf[col].quantile(.5), mf[col])        #code to replace the outlier rows with mean value\n",
        "\n",
        "  return mf                                     #return the dataframe mf\n",
        "############################################# end of remove function#########################################################\n",
        "\n",
        "#########beginning of full function#############################################  \n",
        "#to input a dataframe mf and a character str that user will decide what to get\n",
        "def full(mf,str):\n",
        "\n",
        "  if str=='y':                             #if the user inputs y all the outliers  are removed and dataframe displayed\n",
        "      mf = remove(mf)                    #to remove the columns that are not integer or float\n",
        "      mf = get1(mf)                           #to call the function get1 defined above\n",
        "      return mf\n",
        " \n",
        "  elif str=='n':                             #if the user inputs y all the outliers  are treated and dataframe displayed\n",
        "      mf = remove(mf) \n",
        "      mf = get2(mf)                               #treating the outlier\n",
        "      return mf\n",
        "  else:                                           #if user puts anything else it would display the outlier by the get3 function\n",
        "      mf = remove(mf)      \n",
        "      mf = get3(mf)                                 #to display the outlier                                    \n",
        "      return mf\n",
        "##################to end full function###############################################3\n",
        "lk = full(df,'y')                                 #to call the full function and decide the action with outlier\n",
        "print(lk.shape)                                    #print the shape of the dataframe for verification\n",
        "kk = full(df,'m')                                 #to call the full function and decide the action with outlier\n",
        "print(kk.shape)                                    #print the shape of the dataframe for verification\n",
        "mk = full(df,'n')                                 #to call the full function and decide the action with outlier\n",
        "print(mk.shape)                                    #print the shape of the dataframe for verification\n",
        "\n"
      ],
      "execution_count": 2,
      "outputs": [
        {
          "output_type": "stream",
          "text": [
            "(9992, 2)\n",
            "(8, 2)\n",
            "(10000, 2)\n"
          ],
          "name": "stdout"
        }
      ]
    },
    {
      "cell_type": "code",
      "metadata": {
        "id": "YW1yxkAqZO8L",
        "colab_type": "code",
        "colab": {}
      },
      "source": [
        ""
      ],
      "execution_count": 2,
      "outputs": []
    }
  ]
}